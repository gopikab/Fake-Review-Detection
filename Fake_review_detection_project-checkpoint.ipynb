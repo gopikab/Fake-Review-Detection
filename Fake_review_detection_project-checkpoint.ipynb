#datascience project
{
 "cells": [
  {
   "cell_type": "code",
   "execution_count": 1,
   "metadata": {},
   "outputs": [
    {
     "data": {
      "text/plain": [
       "'D:\\\\SEM 6\\\\DATA ANALYTICS USING PYTHON\\\\sentiment labelled sentences'"
      ]
     },
     "execution_count": 1,
     "metadata": {},
     "output_type": "execute_result"
    }
   ],
   "source": [
    "import os\n",
    "os.chdir('D:\\\\SEM 6\\\\DATA ANALYTICS USING PYTHON\\\\sentiment labelled sentences')\n",
    "os.getcwd()"
   ]
  },
  {
   "cell_type": "code",
   "execution_count": 2,
   "metadata": {},
   "outputs": [],
   "source": [
    "import pandas as pd\n",
    "import numpy as np"
   ]
  },
  {
   "cell_type": "code",
   "execution_count": 3,
   "metadata": {},
   "outputs": [],
   "source": [
    "data_df=pd.read_csv(\"D:\\\\SEM 6\\\\DATA ANALYTICS USING PYTHON\\\\sentiment labelled sentences\\\\deceptive-opinion.csv\")"
   ]
  },
  {
   "cell_type": "code",
   "execution_count": 4,
   "metadata": {},
   "outputs": [
    {
     "data": {
      "text/html": [
       "<div>\n",
       "<style scoped>\n",
       "    .dataframe tbody tr th:only-of-type {\n",
       "        vertical-align: middle;\n",
       "    }\n",
       "\n",
       "    .dataframe tbody tr th {\n",
       "        vertical-align: top;\n",
       "    }\n",
       "\n",
       "    .dataframe thead th {\n",
       "        text-align: right;\n",
       "    }\n",
       "</style>\n",
       "<table border=\"1\" class=\"dataframe\">\n",
       "  <thead>\n",
       "    <tr style=\"text-align: right;\">\n",
       "      <th></th>\n",
       "      <th>deceptive</th>\n",
       "      <th>hotel</th>\n",
       "      <th>polarity</th>\n",
       "      <th>source</th>\n",
       "      <th>text</th>\n",
       "    </tr>\n",
       "  </thead>\n",
       "  <tbody>\n",
       "    <tr>\n",
       "      <th>0</th>\n",
       "      <td>truthful</td>\n",
       "      <td>conrad</td>\n",
       "      <td>positive</td>\n",
       "      <td>TripAdvisor</td>\n",
       "      <td>We stayed for a one night getaway with family ...</td>\n",
       "    </tr>\n",
       "    <tr>\n",
       "      <th>1</th>\n",
       "      <td>truthful</td>\n",
       "      <td>hyatt</td>\n",
       "      <td>positive</td>\n",
       "      <td>TripAdvisor</td>\n",
       "      <td>Triple A rate with upgrade to view room was le...</td>\n",
       "    </tr>\n",
       "    <tr>\n",
       "      <th>2</th>\n",
       "      <td>truthful</td>\n",
       "      <td>hyatt</td>\n",
       "      <td>positive</td>\n",
       "      <td>TripAdvisor</td>\n",
       "      <td>This comes a little late as I'm finally catchi...</td>\n",
       "    </tr>\n",
       "    <tr>\n",
       "      <th>3</th>\n",
       "      <td>truthful</td>\n",
       "      <td>omni</td>\n",
       "      <td>positive</td>\n",
       "      <td>TripAdvisor</td>\n",
       "      <td>The Omni Chicago really delivers on all fronts...</td>\n",
       "    </tr>\n",
       "    <tr>\n",
       "      <th>4</th>\n",
       "      <td>truthful</td>\n",
       "      <td>hyatt</td>\n",
       "      <td>positive</td>\n",
       "      <td>TripAdvisor</td>\n",
       "      <td>I asked for a high floor away from the elevato...</td>\n",
       "    </tr>\n",
       "  </tbody>\n",
       "</table>\n",
       "</div>"
      ],
      "text/plain": [
       "  deceptive   hotel  polarity       source  \\\n",
       "0  truthful  conrad  positive  TripAdvisor   \n",
       "1  truthful   hyatt  positive  TripAdvisor   \n",
       "2  truthful   hyatt  positive  TripAdvisor   \n",
       "3  truthful    omni  positive  TripAdvisor   \n",
       "4  truthful   hyatt  positive  TripAdvisor   \n",
       "\n",
       "                                                text  \n",
       "0  We stayed for a one night getaway with family ...  \n",
       "1  Triple A rate with upgrade to view room was le...  \n",
       "2  This comes a little late as I'm finally catchi...  \n",
       "3  The Omni Chicago really delivers on all fronts...  \n",
       "4  I asked for a high floor away from the elevato...  "
      ]
     },
     "execution_count": 4,
     "metadata": {},
     "output_type": "execute_result"
    }
   ],
   "source": [
    "data_df.head()"
   ]
  },
  {
   "cell_type": "code",
   "execution_count": 5,
   "metadata": {},
   "outputs": [
    {
     "data": {
      "text/plain": [
       "deceptive    0\n",
       "hotel        0\n",
       "polarity     0\n",
       "source       0\n",
       "text         0\n",
       "dtype: int64"
      ]
     },
     "execution_count": 5,
     "metadata": {},
     "output_type": "execute_result"
    }
   ],
   "source": [
    "data_df.isnull().sum()"
   ]
  },
  {
   "cell_type": "code",
   "execution_count": 6,
   "metadata": {},
   "outputs": [
    {
     "data": {
      "text/html": [
       "<div>\n",
       "<style scoped>\n",
       "    .dataframe tbody tr th:only-of-type {\n",
       "        vertical-align: middle;\n",
       "    }\n",
       "\n",
       "    .dataframe tbody tr th {\n",
       "        vertical-align: top;\n",
       "    }\n",
       "\n",
       "    .dataframe thead th {\n",
       "        text-align: right;\n",
       "    }\n",
       "</style>\n",
       "<table border=\"1\" class=\"dataframe\">\n",
       "  <thead>\n",
       "    <tr style=\"text-align: right;\">\n",
       "      <th></th>\n",
       "      <th>deceptive</th>\n",
       "      <th>hotel</th>\n",
       "      <th>polarity</th>\n",
       "      <th>source</th>\n",
       "      <th>text</th>\n",
       "    </tr>\n",
       "  </thead>\n",
       "  <tbody>\n",
       "    <tr>\n",
       "      <th>count</th>\n",
       "      <td>1600</td>\n",
       "      <td>1600</td>\n",
       "      <td>1600</td>\n",
       "      <td>1600</td>\n",
       "      <td>1600</td>\n",
       "    </tr>\n",
       "    <tr>\n",
       "      <th>unique</th>\n",
       "      <td>2</td>\n",
       "      <td>20</td>\n",
       "      <td>2</td>\n",
       "      <td>3</td>\n",
       "      <td>1596</td>\n",
       "    </tr>\n",
       "    <tr>\n",
       "      <th>top</th>\n",
       "      <td>truthful</td>\n",
       "      <td>palmer</td>\n",
       "      <td>positive</td>\n",
       "      <td>MTurk</td>\n",
       "      <td>The Omni was chosen for it's location whichwor...</td>\n",
       "    </tr>\n",
       "    <tr>\n",
       "      <th>freq</th>\n",
       "      <td>800</td>\n",
       "      <td>80</td>\n",
       "      <td>800</td>\n",
       "      <td>800</td>\n",
       "      <td>2</td>\n",
       "    </tr>\n",
       "  </tbody>\n",
       "</table>\n",
       "</div>"
      ],
      "text/plain": [
       "       deceptive   hotel  polarity source  \\\n",
       "count       1600    1600      1600   1600   \n",
       "unique         2      20         2      3   \n",
       "top     truthful  palmer  positive  MTurk   \n",
       "freq         800      80       800    800   \n",
       "\n",
       "                                                     text  \n",
       "count                                                1600  \n",
       "unique                                               1596  \n",
       "top     The Omni was chosen for it's location whichwor...  \n",
       "freq                                                    2  "
      ]
     },
     "execution_count": 6,
     "metadata": {},
     "output_type": "execute_result"
    }
   ],
   "source": [
    "data_df.describe()"
   ]
  },
  {
   "cell_type": "code",
   "execution_count": 7,
   "metadata": {},
   "outputs": [
    {
     "name": "stdout",
     "output_type": "stream",
     "text": [
      "<class 'pandas.core.frame.DataFrame'>\n",
      "RangeIndex: 1600 entries, 0 to 1599\n",
      "Data columns (total 5 columns):\n",
      "deceptive    1600 non-null object\n",
      "hotel        1600 non-null object\n",
      "polarity     1600 non-null object\n",
      "source       1600 non-null object\n",
      "text         1600 non-null object\n",
      "dtypes: object(5)\n",
      "memory usage: 62.6+ KB\n"
     ]
    }
   ],
   "source": [
    "data_df.info()"
   ]
  },
  {
   "cell_type": "code",
   "execution_count": 8,
   "metadata": {},
   "outputs": [],
   "source": [
    "data_df = data_df.drop([\"hotel\", \"polarity\",\"source\"], axis=1)"
   ]
  },
  {
   "cell_type": "code",
   "execution_count": 9,
   "metadata": {},
   "outputs": [
    {
     "name": "stdout",
     "output_type": "stream",
     "text": [
      "<class 'pandas.core.frame.DataFrame'>\n",
      "RangeIndex: 1600 entries, 0 to 1599\n",
      "Data columns (total 2 columns):\n",
      "deceptive    1600 non-null object\n",
      "text         1600 non-null object\n",
      "dtypes: object(2)\n",
      "memory usage: 25.1+ KB\n"
     ]
    }
   ],
   "source": [
    "data_df.info()"
   ]
  },
  {
   "cell_type": "code",
   "execution_count": 10,
   "metadata": {},
   "outputs": [],
   "source": [
    "data_df = data_df.sample(frac=1)"
   ]
  },
  {
   "cell_type": "code",
   "execution_count": 11,
   "metadata": {},
   "outputs": [
    {
     "data": {
      "text/html": [
       "<div>\n",
       "<style scoped>\n",
       "    .dataframe tbody tr th:only-of-type {\n",
       "        vertical-align: middle;\n",
       "    }\n",
       "\n",
       "    .dataframe tbody tr th {\n",
       "        vertical-align: top;\n",
       "    }\n",
       "\n",
       "    .dataframe thead th {\n",
       "        text-align: right;\n",
       "    }\n",
       "</style>\n",
       "<table border=\"1\" class=\"dataframe\">\n",
       "  <thead>\n",
       "    <tr style=\"text-align: right;\">\n",
       "      <th></th>\n",
       "      <th>deceptive</th>\n",
       "      <th>text</th>\n",
       "    </tr>\n",
       "  </thead>\n",
       "  <tbody>\n",
       "    <tr>\n",
       "      <th>174</th>\n",
       "      <td>truthful</td>\n",
       "      <td>My girlfriends and I stayed 4 nights at the Ta...</td>\n",
       "    </tr>\n",
       "    <tr>\n",
       "      <th>1015</th>\n",
       "      <td>truthful</td>\n",
       "      <td>Our check-in was great, but then we got into o...</td>\n",
       "    </tr>\n",
       "    <tr>\n",
       "      <th>887</th>\n",
       "      <td>truthful</td>\n",
       "      <td>Just wanted to let everyone know if you are lo...</td>\n",
       "    </tr>\n",
       "    <tr>\n",
       "      <th>933</th>\n",
       "      <td>truthful</td>\n",
       "      <td>After reading good reviews about I booked a 5 ...</td>\n",
       "    </tr>\n",
       "    <tr>\n",
       "      <th>593</th>\n",
       "      <td>deceptive</td>\n",
       "      <td>I loved staying at the Hard Rock Hotel in Chic...</td>\n",
       "    </tr>\n",
       "  </tbody>\n",
       "</table>\n",
       "</div>"
      ],
      "text/plain": [
       "      deceptive                                               text\n",
       "174    truthful  My girlfriends and I stayed 4 nights at the Ta...\n",
       "1015   truthful  Our check-in was great, but then we got into o...\n",
       "887    truthful  Just wanted to let everyone know if you are lo...\n",
       "933    truthful  After reading good reviews about I booked a 5 ...\n",
       "593   deceptive  I loved staying at the Hard Rock Hotel in Chic..."
      ]
     },
     "execution_count": 11,
     "metadata": {},
     "output_type": "execute_result"
    }
   ],
   "source": [
    "data_df.head()"
   ]
  },
  {
   "cell_type": "code",
   "execution_count": 12,
   "metadata": {},
   "outputs": [
    {
     "data": {
      "text/plain": [
       "array([1, 0], dtype=int64)"
      ]
     },
     "execution_count": 12,
     "metadata": {},
     "output_type": "execute_result"
    }
   ],
   "source": [
    "from sklearn import preprocessing \n",
    "\n",
    "# label_encoder object knows how to understand word labels. \n",
    "label_encoder = preprocessing.LabelEncoder() \n",
    "\n",
    "# Encode labels in column 'species'. \n",
    "data_df['deceptive']= label_encoder.fit_transform(data_df['deceptive']) \n",
    "\n",
    "data_df['deceptive'].unique()"
   ]
  },
  {
   "cell_type": "code",
   "execution_count": 13,
   "metadata": {},
   "outputs": [
    {
     "data": {
      "text/html": [
       "<div>\n",
       "<style scoped>\n",
       "    .dataframe tbody tr th:only-of-type {\n",
       "        vertical-align: middle;\n",
       "    }\n",
       "\n",
       "    .dataframe tbody tr th {\n",
       "        vertical-align: top;\n",
       "    }\n",
       "\n",
       "    .dataframe thead th {\n",
       "        text-align: right;\n",
       "    }\n",
       "</style>\n",
       "<table border=\"1\" class=\"dataframe\">\n",
       "  <thead>\n",
       "    <tr style=\"text-align: right;\">\n",
       "      <th></th>\n",
       "      <th>deceptive</th>\n",
       "      <th>text</th>\n",
       "    </tr>\n",
       "  </thead>\n",
       "  <tbody>\n",
       "    <tr>\n",
       "      <th>174</th>\n",
       "      <td>1</td>\n",
       "      <td>My girlfriends and I stayed 4 nights at the Ta...</td>\n",
       "    </tr>\n",
       "    <tr>\n",
       "      <th>1015</th>\n",
       "      <td>1</td>\n",
       "      <td>Our check-in was great, but then we got into o...</td>\n",
       "    </tr>\n",
       "    <tr>\n",
       "      <th>887</th>\n",
       "      <td>1</td>\n",
       "      <td>Just wanted to let everyone know if you are lo...</td>\n",
       "    </tr>\n",
       "    <tr>\n",
       "      <th>933</th>\n",
       "      <td>1</td>\n",
       "      <td>After reading good reviews about I booked a 5 ...</td>\n",
       "    </tr>\n",
       "    <tr>\n",
       "      <th>593</th>\n",
       "      <td>0</td>\n",
       "      <td>I loved staying at the Hard Rock Hotel in Chic...</td>\n",
       "    </tr>\n",
       "  </tbody>\n",
       "</table>\n",
       "</div>"
      ],
      "text/plain": [
       "      deceptive                                               text\n",
       "174           1  My girlfriends and I stayed 4 nights at the Ta...\n",
       "1015          1  Our check-in was great, but then we got into o...\n",
       "887           1  Just wanted to let everyone know if you are lo...\n",
       "933           1  After reading good reviews about I booked a 5 ...\n",
       "593           0  I loved staying at the Hard Rock Hotel in Chic..."
      ]
     },
     "execution_count": 13,
     "metadata": {},
     "output_type": "execute_result"
    }
   ],
   "source": [
    "data_df.head()"
   ]
  },
  {
   "cell_type": "code",
   "execution_count": 14,
   "metadata": {},
   "outputs": [
    {
     "data": {
      "text/html": [
       "<div>\n",
       "<style scoped>\n",
       "    .dataframe tbody tr th:only-of-type {\n",
       "        vertical-align: middle;\n",
       "    }\n",
       "\n",
       "    .dataframe tbody tr th {\n",
       "        vertical-align: top;\n",
       "    }\n",
       "\n",
       "    .dataframe thead tr th {\n",
       "        text-align: left;\n",
       "    }\n",
       "\n",
       "    .dataframe thead tr:last-of-type th {\n",
       "        text-align: right;\n",
       "    }\n",
       "</style>\n",
       "<table border=\"1\" class=\"dataframe\">\n",
       "  <thead>\n",
       "    <tr>\n",
       "      <th></th>\n",
       "      <th colspan=\"4\" halign=\"left\">text</th>\n",
       "    </tr>\n",
       "    <tr>\n",
       "      <th></th>\n",
       "      <th>count</th>\n",
       "      <th>unique</th>\n",
       "      <th>top</th>\n",
       "      <th>freq</th>\n",
       "    </tr>\n",
       "    <tr>\n",
       "      <th>deceptive</th>\n",
       "      <th></th>\n",
       "      <th></th>\n",
       "      <th></th>\n",
       "      <th></th>\n",
       "    </tr>\n",
       "  </thead>\n",
       "  <tbody>\n",
       "    <tr>\n",
       "      <th>0</th>\n",
       "      <td>800</td>\n",
       "      <td>800</td>\n",
       "      <td>This hotel is overpriced. One should pay money...</td>\n",
       "      <td>1</td>\n",
       "    </tr>\n",
       "    <tr>\n",
       "      <th>1</th>\n",
       "      <td>800</td>\n",
       "      <td>796</td>\n",
       "      <td>I'd been searching for a cool, non-chain hotel...</td>\n",
       "      <td>2</td>\n",
       "    </tr>\n",
       "  </tbody>\n",
       "</table>\n",
       "</div>"
      ],
      "text/plain": [
       "           text                                                               \n",
       "          count unique                                                top freq\n",
       "deceptive                                                                     \n",
       "0           800    800  This hotel is overpriced. One should pay money...    1\n",
       "1           800    796  I'd been searching for a cool, non-chain hotel...    2"
      ]
     },
     "execution_count": 14,
     "metadata": {},
     "output_type": "execute_result"
    }
   ],
   "source": [
    "#dataset description #truthful=1 deceptive=0\n",
    "data_df.groupby('deceptive').describe()"
   ]
  },
  {
   "cell_type": "code",
   "execution_count": 15,
   "metadata": {},
   "outputs": [
    {
     "data": {
      "text/html": [
       "<div>\n",
       "<style scoped>\n",
       "    .dataframe tbody tr th:only-of-type {\n",
       "        vertical-align: middle;\n",
       "    }\n",
       "\n",
       "    .dataframe tbody tr th {\n",
       "        vertical-align: top;\n",
       "    }\n",
       "\n",
       "    .dataframe thead th {\n",
       "        text-align: right;\n",
       "    }\n",
       "</style>\n",
       "<table border=\"1\" class=\"dataframe\">\n",
       "  <thead>\n",
       "    <tr style=\"text-align: right;\">\n",
       "      <th></th>\n",
       "      <th>deceptive</th>\n",
       "    </tr>\n",
       "  </thead>\n",
       "  <tbody>\n",
       "    <tr>\n",
       "      <th>count</th>\n",
       "      <td>1600.000000</td>\n",
       "    </tr>\n",
       "    <tr>\n",
       "      <th>mean</th>\n",
       "      <td>0.500000</td>\n",
       "    </tr>\n",
       "    <tr>\n",
       "      <th>std</th>\n",
       "      <td>0.500156</td>\n",
       "    </tr>\n",
       "    <tr>\n",
       "      <th>min</th>\n",
       "      <td>0.000000</td>\n",
       "    </tr>\n",
       "    <tr>\n",
       "      <th>25%</th>\n",
       "      <td>0.000000</td>\n",
       "    </tr>\n",
       "    <tr>\n",
       "      <th>50%</th>\n",
       "      <td>0.500000</td>\n",
       "    </tr>\n",
       "    <tr>\n",
       "      <th>75%</th>\n",
       "      <td>1.000000</td>\n",
       "    </tr>\n",
       "    <tr>\n",
       "      <th>max</th>\n",
       "      <td>1.000000</td>\n",
       "    </tr>\n",
       "  </tbody>\n",
       "</table>\n",
       "</div>"
      ],
      "text/plain": [
       "         deceptive\n",
       "count  1600.000000\n",
       "mean      0.500000\n",
       "std       0.500156\n",
       "min       0.000000\n",
       "25%       0.000000\n",
       "50%       0.500000\n",
       "75%       1.000000\n",
       "max       1.000000"
      ]
     },
     "execution_count": 15,
     "metadata": {},
     "output_type": "execute_result"
    }
   ],
   "source": [
    "data_df.describe()"
   ]
  },
  {
   "cell_type": "code",
   "execution_count": 16,
   "metadata": {},
   "outputs": [],
   "source": [
    "import re\n",
    "import string\n",
    "from nltk.corpus import stopwords\n",
    "from bs4 import BeautifulSoup\n",
    "import nltk\n",
    "from nltk.corpus import stopwords\n",
    "from nltk.stem import SnowballStemmer"
   ]
  },
  {
   "cell_type": "code",
   "execution_count": 17,
   "metadata": {},
   "outputs": [
    {
     "name": "stderr",
     "output_type": "stream",
     "text": [
      "[nltk_data] Downloading package stopwords to\n",
      "[nltk_data]     C:\\Users\\USER\\AppData\\Roaming\\nltk_data...\n",
      "[nltk_data]   Package stopwords is already up-to-date!\n"
     ]
    },
    {
     "data": {
      "text/plain": [
       "True"
      ]
     },
     "execution_count": 17,
     "metadata": {},
     "output_type": "execute_result"
    }
   ],
   "source": [
    "nltk.download('stopwords')"
   ]
  },
  {
   "cell_type": "code",
   "execution_count": 18,
   "metadata": {},
   "outputs": [],
   "source": [
    "def clean_text(text):\n",
    "    \n",
    "    ## Remove puncuation\n",
    "    text = text.translate(string.punctuation)\n",
    "    \n",
    "    ## Convert words to lower case and split them\n",
    "    text = text.lower().split()\n",
    "    \n",
    "    ## Remove stop words\n",
    "    stops = set(stopwords.words(\"english\"))\n",
    "    text = [w for w in text if not w in stops and len(w) >= 3]\n",
    "    \n",
    "    text = \" \".join(text)\n",
    "\n",
    "    # Clean the text\n",
    "    text = re.sub(r\"[^A-Za-z0-9^,!.\\/'+-=]\", \" \", text)\n",
    "    text = re.sub(r\"what's\", \"what is \", text)\n",
    "    text = re.sub(r\"\\'s\", \" \", text)\n",
    "    text = re.sub(r\"\\'ve\", \" have \", text)\n",
    "    text = re.sub(r\"n't\", \" not \", text)\n",
    "    text = re.sub(r\"i'm\", \"i am \", text)\n",
    "    text = re.sub(r\"\\'re\", \" are \", text)\n",
    "    text = re.sub(r\"\\'d\", \" would \", text)\n",
    "    text = re.sub(r\"\\'ll\", \" will \", text)\n",
    "    text = re.sub(r\",\", \" \", text)\n",
    "    text = re.sub(r\"\\.\", \" \", text)\n",
    "    text = re.sub(r\"!\", \" ! \", text)\n",
    "    text = re.sub(r\"\\/\", \" \", text)\n",
    "    text = re.sub(r\"\\^\", \" ^ \", text)\n",
    "    text = re.sub(r\"\\+\", \" + \", text)\n",
    "    text = re.sub(r\"\\-\", \" - \", text)\n",
    "    text = re.sub(r\"\\=\", \" = \", text)\n",
    "    text = re.sub(r\"'\", \" \", text)\n",
    "    text = re.sub(r\"(\\d+)(k)\", r\"\\g<1>000\", text)\n",
    "    text = re.sub(r\":\", \" : \", text)\n",
    "    text = re.sub(r\" e g \", \" eg \", text)\n",
    "    text = re.sub(r\" b g \", \" bg \", text)\n",
    "    text = re.sub(r\" u s \", \" american \", text)\n",
    "    text = re.sub(r\"\\0s\", \"0\", text)\n",
    "    text = re.sub(r\" 9 11 \", \"911\", text)\n",
    "    text = re.sub(r\"e - mail\", \"email\", text)\n",
    "    text = re.sub(r\"j k\", \"jk\", text)\n",
    "    text = re.sub(r\"\\s{2,}\", \" \", text)\n",
    "    \n",
    "    text = text.split()\n",
    "    stemmer = SnowballStemmer('english')\n",
    "    stemmed_words = [stemmer.stem(word) for word in text]\n",
    "    text = \" \".join(stemmed_words)\n",
    "\n",
    "    return text"
   ]
  },
  {
   "cell_type": "code",
   "execution_count": 19,
   "metadata": {},
   "outputs": [],
   "source": [
    "# Some preprocesssing that will be common to all the text classification methods\n",
    "\n",
    "puncts = [',', '.', '\"', ':', ')', '(', '-', '!', '?', '|', ';', \"'\", '$', '&', '/', '[', ']', '>', '%', '=', '#', '*', '+', '\\\\', '•',  '~', '@', '£', \n",
    " '·', '_', '{', '}', '©', '^', '®', '`',  '<', '→', '°', '€', '™', '›',  '♥', '←', '×', '§', '″', '′', 'Â', '█', '½', 'à', '…', \n",
    " '“', '★', '”', '–', '●', 'â', '►', '−', '¢', '²', '¬', '░', '¶', '↑', '±', '¿', '▾', '═', '¦', '║', '―', '¥', '▓', '—', '‹', '─', \n",
    " '▒', '：', '¼', '⊕', '▼', '▪', '†', '■', '’', '▀', '¨', '▄', '♫', '☆', 'é', '¯', '♦', '¤', '▲', 'è', '¸', '¾', 'Ã', '⋅', '‘', '∞', \n",
    " '∙', '）', '↓', '、', '│', '（', '»', '，', '♪', '╩', '╚', '³', '・', '╦', '╣', '╔', '╗', '▬', '❤', 'ï', 'Ø', '¹', '≤', '‡', '√', ]\n",
    "\n",
    "def clean_char(x):\n",
    "    x = str(x)\n",
    "    for punct in puncts:\n",
    "        if punct in x:\n",
    "            x = x.replace(punct, f' {punct} ')\n",
    "    return x"
   ]
  },
  {
   "cell_type": "code",
   "execution_count": 20,
   "metadata": {},
   "outputs": [],
   "source": [
    "def clean_numbers(x):\n",
    "    if bool(re.search(r'\\d', x)):\n",
    "        x = re.sub('[0-9]{5,}', '#####', x)\n",
    "        x = re.sub('[0-9]{4}', '####', x)\n",
    "        x = re.sub('[0-9]{3}', '###', x)\n",
    "        x = re.sub('[0-9]{2}', '##', x)\n",
    "    return x"
   ]
  },
  {
   "cell_type": "code",
   "execution_count": 21,
   "metadata": {},
   "outputs": [],
   "source": [
    "data_df['text'] = data_df['text'].map(lambda a: clean_numbers(a))"
   ]
  },
  {
   "cell_type": "code",
   "execution_count": 22,
   "metadata": {},
   "outputs": [],
   "source": [
    "data_df['text'] = data_df['text'].map(lambda a: clean_char(a))"
   ]
  },
  {
   "cell_type": "code",
   "execution_count": 23,
   "metadata": {},
   "outputs": [],
   "source": [
    "data_df['text'] = data_df['text'].map(lambda a: clean_text(a))"
   ]
  },
  {
   "cell_type": "code",
   "execution_count": 24,
   "metadata": {},
   "outputs": [
    {
     "data": {
      "text/plain": [
       "174     girlfriend stay night talbott return home satu...\n",
       "1015    check great got room carpet drench stain near ...\n",
       "887     want let everyon know look hotel high rise con...\n",
       "933     read good review book night stay check late bi...\n",
       "593     love stay hard rock hotel chicago amaz friend ...\n",
       "1574    misfortun book amalfi hotel chicago week ago j...\n",
       "957     say avoid place cost reserv assist took minut ...\n",
       "1168    check room empti beer bottl dirti underwear cl...\n",
       "605     came back awesom terrif hotel last week say lo...\n",
       "462     recent chicago busi base proxim aesthet decid ...\n",
       "16      stay conrad night friend reunion room clean ne...\n",
       "763     intercontinent chicago conveni locat near midw...\n",
       "762     husband stay amalfi everi year anniversari lov...\n",
       "216     stay night apri check stay perfect round staff...\n",
       "730     hotel absolut beauti eleg comfort relax stay e...\n",
       "772     fiance look modern upscal venu wed recept foun...\n",
       "516     stay millennium knickerbock hotel fun weekend ...\n",
       "1194    stay novemb leisur trip chicago hotel date roo...\n",
       "109     stay night knickerbock could better stay hotel...\n",
       "1397    terribl experi stay wall thin kept night parti...\n",
       "323     wife spent sever night getaway excurs choos pr...\n",
       "1462    jame chicago would one worst hotel ever life e...\n",
       "1169    hilton hotel unimpress room incred small refri...\n",
       "1176    stay amalfi night say read review expect littl...\n",
       "803     daughter woke morn want swim arriv pool water ...\n",
       "1038    regular visitor chicago freuent guest ambassad...\n",
       "488     absolut love stay swissotel chicago entir hote...\n",
       "761     friend visit amalfi hotel last week chicago fo...\n",
       "1402    recent stay talbott hotel chicago left citi em...\n",
       "1236    stay hyatt regenc experi never ever forget goo...\n",
       "                              ...                        \n",
       "814     trip annual anniversari trip hotel honor choic...\n",
       "443     hotel amaz would recommend everyon stay least ...\n",
       "1030    reserv room sleeper couch week stay check unpa...\n",
       "389     stay sever time alway found clean comfort bed ...\n",
       "1346    impress stay millennium knickerbock hotel chic...\n",
       "233     recent return two night stay ambassador east h...\n",
       "1261    stay omni chicago hotel recent noth disappoint...\n",
       "1563    stay intercontinent chicago visit set daughter...\n",
       "1576    amalfi hotel chicago advertis famili friend ye...\n",
       "70      wife stay middl februari took subway hotel har...\n",
       "1558    agre intercontinent chicago nice hotel outsid ...\n",
       "1204    room pretti locat great hotel big staff take c...\n",
       "1181    often visit chicago first stay locat abl secur...\n",
       "1091    overal decent properti incid hotel like none h...\n",
       "770     travel chicago need place stay high recommend ...\n",
       "1343    swissotel chicago hotel aspir tourist paradis ...\n",
       "954     histor feel hotel realli strong influenc choic...\n",
       "344     attend train confer chicago opt book room thru...\n",
       "1553    though grand brand hotel seem disappoint certa...\n",
       "1246    got home stay fairmont chicago millennium park...\n",
       "800     book room queen bed night wonder nye rather di...\n",
       "1352    hotel overpr one pay money luxuri fall far sho...\n",
       "1441    book room two month advanc hotel sofitel chica...\n",
       "355     return week chicago famili hotel perfect locat...\n",
       "426     talbott hotel classi profession luxuri love st...\n",
       "1216    friend stay hyatt regenc chicago weekend visit...\n",
       "1074    parent book five night jame locat good review ...\n",
       "376     stay one night hotel staff extrem friend polit...\n",
       "696     stay hilton chicago pleasur arriv departur sta...\n",
       "25      arriv greet friend doorman zip 5th floor lobbi...\n",
       "Name: text, Length: 1600, dtype: object"
      ]
     },
     "execution_count": 24,
     "metadata": {},
     "output_type": "execute_result"
    }
   ],
   "source": [
    "data_df['text']"
   ]
  },
  {
   "cell_type": "code",
   "execution_count": 25,
   "metadata": {},
   "outputs": [],
   "source": [
    "voc =[]\n",
    "voc = data_df['text'].map(lambda a: nltk.word_tokenize(a))"
   ]
  },
  {
   "cell_type": "code",
   "execution_count": 26,
   "metadata": {},
   "outputs": [
    {
     "name": "stdout",
     "output_type": "stream",
     "text": [
      "174     [girlfriend, stay, night, talbott, return, hom...\n",
      "1015    [check, great, got, room, carpet, drench, stai...\n",
      "887     [want, let, everyon, know, look, hotel, high, ...\n",
      "933     [read, good, review, book, night, stay, check,...\n",
      "593     [love, stay, hard, rock, hotel, chicago, amaz,...\n",
      "1574    [misfortun, book, amalfi, hotel, chicago, week...\n",
      "957     [say, avoid, place, cost, reserv, assist, took...\n",
      "1168    [check, room, empti, beer, bottl, dirti, under...\n",
      "605     [came, back, awesom, terrif, hotel, last, week...\n",
      "462     [recent, chicago, busi, base, proxim, aesthet,...\n",
      "16      [stay, conrad, night, friend, reunion, room, c...\n",
      "763     [intercontinent, chicago, conveni, locat, near...\n",
      "762     [husband, stay, amalfi, everi, year, anniversa...\n",
      "216     [stay, night, apri, check, stay, perfect, roun...\n",
      "730     [hotel, absolut, beauti, eleg, comfort, relax,...\n",
      "772     [fiance, look, modern, upscal, venu, wed, rece...\n",
      "516     [stay, millennium, knickerbock, hotel, fun, we...\n",
      "1194    [stay, novemb, leisur, trip, chicago, hotel, d...\n",
      "109     [stay, night, knickerbock, could, better, stay...\n",
      "1397    [terribl, experi, stay, wall, thin, kept, nigh...\n",
      "323     [wife, spent, sever, night, getaway, excurs, c...\n",
      "1462    [jame, chicago, would, one, worst, hotel, ever...\n",
      "1169    [hilton, hotel, unimpress, room, incred, small...\n",
      "1176    [stay, amalfi, night, say, read, review, expec...\n",
      "803     [daughter, woke, morn, want, swim, arriv, pool...\n",
      "1038    [regular, visitor, chicago, freuent, guest, am...\n",
      "488     [absolut, love, stay, swissotel, chicago, enti...\n",
      "761     [friend, visit, amalfi, hotel, last, week, chi...\n",
      "1402    [recent, stay, talbott, hotel, chicago, left, ...\n",
      "1236    [stay, hyatt, regenc, experi, never, ever, for...\n",
      "                              ...                        \n",
      "814     [trip, annual, anniversari, trip, hotel, honor...\n",
      "443     [hotel, amaz, would, recommend, everyon, stay,...\n",
      "1030    [reserv, room, sleeper, couch, week, stay, che...\n",
      "389     [stay, sever, time, alway, found, clean, comfo...\n",
      "1346    [impress, stay, millennium, knickerbock, hotel...\n",
      "233     [recent, return, two, night, stay, ambassador,...\n",
      "1261    [stay, omni, chicago, hotel, recent, noth, dis...\n",
      "1563    [stay, intercontinent, chicago, visit, set, da...\n",
      "1576    [amalfi, hotel, chicago, advertis, famili, fri...\n",
      "70      [wife, stay, middl, februari, took, subway, ho...\n",
      "1558    [agre, intercontinent, chicago, nice, hotel, o...\n",
      "1204    [room, pretti, locat, great, hotel, big, staff...\n",
      "1181    [often, visit, chicago, first, stay, locat, ab...\n",
      "1091    [overal, decent, properti, incid, hotel, like,...\n",
      "770     [travel, chicago, need, place, stay, high, rec...\n",
      "1343    [swissotel, chicago, hotel, aspir, tourist, pa...\n",
      "954     [histor, feel, hotel, realli, strong, influenc...\n",
      "344     [attend, train, confer, chicago, opt, book, ro...\n",
      "1553    [though, grand, brand, hotel, seem, disappoint...\n",
      "1246    [got, home, stay, fairmont, chicago, millenniu...\n",
      "800     [book, room, queen, bed, night, wonder, nye, r...\n",
      "1352    [hotel, overpr, one, pay, money, luxuri, fall,...\n",
      "1441    [book, room, two, month, advanc, hotel, sofite...\n",
      "355     [return, week, chicago, famili, hotel, perfect...\n",
      "426     [talbott, hotel, classi, profession, luxuri, l...\n",
      "1216    [friend, stay, hyatt, regenc, chicago, weekend...\n",
      "1074    [parent, book, five, night, jame, locat, good,...\n",
      "376     [stay, one, night, hotel, staff, extrem, frien...\n",
      "696     [stay, hilton, chicago, pleasur, arriv, depart...\n",
      "25      [arriv, greet, friend, doorman, zip, 5th, floo...\n",
      "Name: text, Length: 1600, dtype: object\n"
     ]
    }
   ],
   "source": [
    "print(voc)"
   ]
  },
  {
   "cell_type": "code",
   "execution_count": 27,
   "metadata": {},
   "outputs": [],
   "source": [
    "x = data_df['text']\n",
    "y = data_df['deceptive']"
   ]
  },
  {
   "cell_type": "code",
   "execution_count": 28,
   "metadata": {},
   "outputs": [],
   "source": [
    "from sklearn.model_selection import train_test_split\n",
    "from sklearn.feature_extraction.text import CountVectorizer, TfidfVectorizer\n",
    "from sklearn.metrics import accuracy_score, confusion_matrix"
   ]
  },
  {
   "cell_type": "code",
   "execution_count": 29,
   "metadata": {},
   "outputs": [
    {
     "name": "stdout",
     "output_type": "stream",
     "text": [
      "Number of rows in the total set: 1600\n",
      "Number of rows in the training set: 1200\n",
      "Number of rows in the test set: 400\n"
     ]
    }
   ],
   "source": [
    "from sklearn.model_selection import train_test_split\n",
    "\n",
    "X_train, X_test, y_train, y_test = train_test_split(data_df['text'], data_df['deceptive'], random_state=5)\n",
    "print('Number of rows in the total set: {}'.format(data_df.shape[0]))\n",
    "print('Number of rows in the training set: {}'.format(X_train.shape[0]))\n",
    "print('Number of rows in the test set: {}'.format(X_test.shape[0]))"
   ]
  },
  {
   "cell_type": "code",
   "execution_count": 30,
   "metadata": {},
   "outputs": [
    {
     "data": {
      "text/plain": [
       "(399     second time stay much look forward weekend ama...\n",
       " 998     much look forward stay hotel hear good thing u...\n",
       " 341     hotel cannot beat locat price atmospher locat ...\n",
       " 1443    stay hilton chicago back juli luxuri hotel pla...\n",
       " 980     wrote email sale reserv team week ago still wa...\n",
       " 1026    ask two year ago would recommend talbott hotel...\n",
       " 217     stay two night three generat girl weekend gran...\n",
       " 1287    book room swissotel chicago thought price reas...\n",
       " 896     swissotel continu yawn previous poster state p...\n",
       " 1245    husband recent stay conrad chicago three night...\n",
       " 1414    recent stay talbott hotel night could disappoi...\n",
       " 790     amalfi hotel chicago wonder hotel opportun sta...\n",
       " 628     hotel everyth look mom girl weekend shop trip ...\n",
       " 273     return stay fabul hotel treat hotel websit off...\n",
       " 923     good locat shop sightse would recommend hotel ...\n",
       " 623     husband recent stay hard rock hotel chicago wa...\n",
       " 416     moment step hotel felt like walk castl everyon...\n",
       " 442     spent weekend wife love much sever week ago wo...\n",
       " 1135    say use favorit hotel chicago locat histor gor...\n",
       " 692     stay sofitel great love locat moment arriv exp...\n",
       " 632     travel chicago recent giant german shepard dog...\n",
       " 710     first trip chicago fianc stay night anniversar...\n",
       " 332     brought giant rottweil great time small room n...\n",
       " 981     book two room four month advanc talbott place ...\n",
       " 914     recent one night confer tri check publish chec...\n",
       " 1130    stay amalfi hotel chicago month good expect di...\n",
       " 172     sweeti lure guis dinner china grill upon arriv...\n",
       " 1447    wish express dissatisfact stay sofitel chicago...\n",
       " 1204    room pretti locat great hotel big staff take c...\n",
       " 785     recent stay amalfi chicago wife busi trip deci...\n",
       "                               ...                        \n",
       " 342     bring new puppi busi trip stay palmer hous ser...\n",
       " 2       come littl late final catch review past sever ...\n",
       " 405     husband recent travel chicago mini vacat stay ...\n",
       " 657     stay weekend visit friend town littl pricey de...\n",
       " 93      niec stay long weekend wonder time arriv earli...\n",
       " 878     issu housekeep hotel manag handl well subject ...\n",
       " 877     pros con pros good locat nice staff clean room...\n",
       " 326     stay palmer hous hilton earli decemb stay week...\n",
       " 222     wow start book hotel hotel com less paid trave...\n",
       " 89      stay busi night realli like attract classi com...\n",
       " 614     enjoy stay talbott hotel expens side worth got...\n",
       " 1369    stay ambassador east hotel past summer day wor...\n",
       " 844     chicago hyatt regenc decept alter cancel polic...\n",
       " 761     friend visit amalfi hotel last week chicago fo...\n",
       " 1112    check hotel next day woke bed bug bite numer a...\n",
       " 584     recent complet first visit chicago pleasant su...\n",
       " 963     stay affinia one night purpos drive way suburb...\n",
       " 1454    disappoint stay jame strict gluten free diet t...\n",
       " 431     hyatt regenc chicago hotel offer pda kiosk che...\n",
       " 322     wife decid spend three day chicago last summer...\n",
       " 1151    usual big fan kimpton hotel place aw would rat...\n",
       " 494     homewood suit hilton chicago downtown wonder h...\n",
       " 611     best choic husband could chosen visit hotel st...\n",
       " 949     hotel trade hilton name although adequ decor d...\n",
       " 645     stay sofitel chicago water tower hotel husband...\n",
       " 722     amalfi hotel chicago minut navi pier michigan ...\n",
       " 1294    husband sore disappoint hotel request non smok...\n",
       " 90      back busi trip homewood great locat magnific m...\n",
       " 1380    recent stay ambassador east hotel two night vi...\n",
       " 1039    wife spent long weekend hardrock chicago hotel...\n",
       " Name: text, Length: 1200, dtype: object,\n",
       " 882     book hotel room night hotel onlin vendor book ...\n",
       " 403     conrad chicago plan flew tire check confad chi...\n",
       " 1178    room wasveri tini warm give illus control temp...\n",
       " 1359    receiv type room reserv cleanli seem issu maid...\n",
       " 1461    hotel sofitel chicago water tower bill star lu...\n",
       " 79      travel chicago last week daughter christma sho...\n",
       " 569     wow love ambassador east hotel chicago close g...\n",
       " 138     love hotel one best stay lobbi beauti room nic...\n",
       " 370     stay hotwir got amaz low rate odd dollar night...\n",
       " 1503    found stay hotel monaco chicago less satisfact...\n",
       " 872     hotel chosen husband compani famili came along...\n",
       " 1086    month prior night reserv hilton chicago reques...\n",
       " 821     hotel well locat servic poor seem cater larg c...\n",
       " 1064    hotel total overr yes locat awesom plenti near...\n",
       " 101     stay swissotel anniversari got corner room lak...\n",
       " 902     stay hotel confer lobbi confer area immacul re...\n",
       " 699     best hotel excel locat stay sofitel chicago wa...\n",
       " 1296    hotel certain seem look beauti hotel actual fa...\n",
       " 912     confer bed bug bug bite itch like hell food wi...\n",
       " 948     overal bad experi host meet compani parent cam...\n",
       " 840     fairmont hotel general prefer choic true disap...\n",
       " 429     stay omni chicago hotel wonder last minut busi...\n",
       " 1339    stay sheraton chicago hotel tower recent compl...\n",
       " 686     stay superb view window stun look could see be...\n",
       " 1149    book amalfi look great boutiqu hotel chicago h...\n",
       " 536     stay millennium knickerbock hotel total three ...\n",
       " 1056    enjoy hotel monaco great locat walk beauti roo...\n",
       " 1225    realli excit visit chicago first time hotel re...\n",
       " 53      stay hotel time year busi love staff great roo...\n",
       " 1214    never stay conrad chicago employe rude begin a...\n",
       "                               ...                        \n",
       " 815     book hotel great expect famili visit outsid co...\n",
       " 1381    hard rock stick restaur recent stay hard rock ...\n",
       " 1028    stay away generat old world cozi state bit tir...\n",
       " 423     hotel nice servic great everyon friend room el...\n",
       " 1458    staff jame chicago hotel seem determin make st...\n",
       " 619     took famili affinia chicago short vacat last s...\n",
       " 764     husband stay palmer hous hilton chicago annive...\n",
       " 1092    first sever day prior stay call spoke length c...\n",
       " 637     ambassador east hotel chicago fantast scale ho...\n",
       " 451     fairmont chicago great choic wife resist eleg ...\n",
       " 670     often travel busi alway tri stay jame modern d...\n",
       " 1005    hotel shambl furnitur liter fall apart staff r...\n",
       " 421     windi citi fairmont hotel one chicago best rec...\n",
       " 688     made chicago wonder stay room gorgeous came li...\n",
       " 829     first let say tri critic case truth warrant ch...\n",
       " 621     moment step ambassador east hotel much impress...\n",
       " 1518    eww sicken affair hotel monaco chicago stuffi ...\n",
       " 1258    hyatt regenc chicago basic cater guest want fe...\n",
       " 997     talbott hotel bit worn around edg bit worn muc...\n",
       " 1378    affinia chicago one worst hotel ever stay life...\n",
       " 763     intercontinent chicago conveni locat near midw...\n",
       " 1365    hotel tout luxuri locat chicago talbot poor th...\n",
       " 1403    bad experi hotel room bad smell dim light bed ...\n",
       " 262     sometim find fault hotel even tri case sofitel...\n",
       " 732     fianc taken trip chicago want stay someplac cl...\n",
       " 1553    though grand brand hotel seem disappoint certa...\n",
       " 647     recent stay sofitel chicago water tower hotel ...\n",
       " 603     hard rock hotel chicago locat comfort rockabl ...\n",
       " 471     husband stay short get away weekend love conve...\n",
       " 1519    sofitel chicago water tower seem good idea the...\n",
       " Name: text, Length: 400, dtype: object,\n",
       " 399     1\n",
       " 998     1\n",
       " 341     1\n",
       " 1443    0\n",
       " 980     1\n",
       " 1026    1\n",
       " 217     1\n",
       " 1287    0\n",
       " 896     1\n",
       " 1245    0\n",
       " 1414    0\n",
       " 790     0\n",
       " 628     0\n",
       " 273     1\n",
       " 923     1\n",
       " 623     0\n",
       " 416     0\n",
       " 442     0\n",
       " 1135    1\n",
       " 692     0\n",
       " 632     0\n",
       " 710     0\n",
       " 332     1\n",
       " 981     1\n",
       " 914     1\n",
       " 1130    1\n",
       " 172     1\n",
       " 1447    0\n",
       " 1204    0\n",
       " 785     0\n",
       "        ..\n",
       " 342     1\n",
       " 2       1\n",
       " 405     0\n",
       " 657     0\n",
       " 93      1\n",
       " 878     1\n",
       " 877     1\n",
       " 326     1\n",
       " 222     1\n",
       " 89      1\n",
       " 614     0\n",
       " 1369    0\n",
       " 844     1\n",
       " 761     0\n",
       " 1112    1\n",
       " 584     0\n",
       " 963     1\n",
       " 1454    0\n",
       " 431     0\n",
       " 322     1\n",
       " 1151    1\n",
       " 494     0\n",
       " 611     0\n",
       " 949     1\n",
       " 645     0\n",
       " 722     0\n",
       " 1294    0\n",
       " 90      1\n",
       " 1380    0\n",
       " 1039    1\n",
       " Name: deceptive, Length: 1200, dtype: int32,\n",
       " 882     1\n",
       " 403     0\n",
       " 1178    1\n",
       " 1359    0\n",
       " 1461    0\n",
       " 79      1\n",
       " 569     0\n",
       " 138     1\n",
       " 370     1\n",
       " 1503    0\n",
       " 872     1\n",
       " 1086    1\n",
       " 821     1\n",
       " 1064    1\n",
       " 101     1\n",
       " 902     1\n",
       " 699     0\n",
       " 1296    0\n",
       " 912     1\n",
       " 948     1\n",
       " 840     1\n",
       " 429     0\n",
       " 1339    0\n",
       " 686     0\n",
       " 1149    1\n",
       " 536     0\n",
       " 1056    1\n",
       " 1225    0\n",
       " 53      1\n",
       " 1214    0\n",
       "        ..\n",
       " 815     1\n",
       " 1381    0\n",
       " 1028    1\n",
       " 423     0\n",
       " 1458    0\n",
       " 619     0\n",
       " 764     0\n",
       " 1092    1\n",
       " 637     0\n",
       " 451     0\n",
       " 670     0\n",
       " 1005    1\n",
       " 421     0\n",
       " 688     0\n",
       " 829     1\n",
       " 621     0\n",
       " 1518    0\n",
       " 1258    0\n",
       " 997     1\n",
       " 1378    0\n",
       " 763     0\n",
       " 1365    0\n",
       " 1403    0\n",
       " 262     1\n",
       " 732     0\n",
       " 1553    0\n",
       " 647     0\n",
       " 603     0\n",
       " 471     0\n",
       " 1519    0\n",
       " Name: deceptive, Length: 400, dtype: int32)"
      ]
     },
     "execution_count": 30,
     "metadata": {},
     "output_type": "execute_result"
    }
   ],
   "source": [
    "X_train, X_test, y_train, y_test"
   ]
  },
  {
   "cell_type": "code",
   "execution_count": 31,
   "metadata": {},
   "outputs": [
    {
     "name": "stdout",
     "output_type": "stream",
     "text": [
      "CountVectorizer(analyzer='word', binary=False, decode_error='strict',\n",
      "                dtype=<class 'numpy.int64'>, encoding='utf-8', input='content',\n",
      "                lowercase=True, max_df=1.0, max_features=None, min_df=1,\n",
      "                ngram_range=(1, 1), preprocessor=None, stop_words=None,\n",
      "                strip_accents=None, token_pattern='(?u)\\\\b\\\\w\\\\w+\\\\b',\n",
      "                tokenizer=None, vocabulary=None)\n"
     ]
    }
   ],
   "source": [
    "from sklearn.feature_extraction.text import CountVectorizer\n",
    "count_vector = CountVectorizer()\n",
    "print(count_vector)"
   ]
  },
  {
   "cell_type": "code",
   "execution_count": 32,
   "metadata": {},
   "outputs": [],
   "source": [
    "training_data = count_vector.fit_transform(X_train)\n",
    "testing_data = count_vector.transform(X_test)"
   ]
  },
  {
   "cell_type": "code",
   "execution_count": 33,
   "metadata": {},
   "outputs": [
    {
     "data": {
      "text/plain": [
       "MultinomialNB(alpha=1.0, class_prior=None, fit_prior=True)"
      ]
     },
     "execution_count": 33,
     "metadata": {},
     "output_type": "execute_result"
    }
   ],
   "source": [
    "from sklearn.naive_bayes import MultinomialNB\n",
    "naive_bayes = MultinomialNB()\n",
    "naive_bayes.fit(training_data, y_train)"
   ]
  },
  {
   "cell_type": "code",
   "execution_count": 34,
   "metadata": {},
   "outputs": [],
   "source": [
    "predictions = naive_bayes.predict(testing_data)"
   ]
  },
  {
   "cell_type": "code",
   "execution_count": 35,
   "metadata": {},
   "outputs": [
    {
     "name": "stdout",
     "output_type": "stream",
     "text": [
      "Accuracy score:  0.9025\n",
      "Precision score:  0.9180327868852459\n",
      "Recall score:  0.875\n",
      "F1 score:  0.8959999999999999\n"
     ]
    }
   ],
   "source": [
    "from sklearn.metrics import accuracy_score, precision_score, recall_score, f1_score\n",
    "mnbaccuracy = accuracy_score(y_test, predictions)\n",
    "print('Accuracy score: ', format(accuracy_score(y_test, predictions)))\n",
    "print('Precision score: ', format(precision_score(y_test, predictions)))\n",
    "print('Recall score: ', format(recall_score(y_test, predictions)))\n",
    "print('F1 score: ', format(f1_score(y_test, predictions)))"
   ]
  },
  {
   "cell_type": "code",
   "execution_count": 37,
   "metadata": {},
   "outputs": [
    {
     "name": "stdout",
     "output_type": "stream",
     "text": [
      "AUC: 0.943\n"
     ]
    },
    {
     "data": {
      "image/png": "[encoded data removed]",
      "text/plain": [
       "<Figure size 432x288 with 1 Axes>"
      ]
     },
     "metadata": {
      "needs_background": "light"
     },
     "output_type": "display_data"
    }
   ],
   "source": [
    "# roc curve and auc\n",
    "from sklearn.datasets import make_classification\n",
    "from sklearn.neighbors import KNeighborsClassifier\n",
    "from sklearn.model_selection import train_test_split\n",
    "from sklearn.metrics import roc_curve\n",
    "from sklearn.metrics import roc_auc_score\n",
    "from matplotlib import pyplot\n",
    "\n",
    "# split into train/test sets\n",
    "trainX, testX, trainy, testy = train_test_split(x, y, test_size=0.3, random_state=2)\n",
    "#vectorizer\n",
    "training_data = count_vector.fit_transform(trainX)\n",
    "testing_data = count_vector.transform(testX)\n",
    "# fit a model\n",
    "model = MultinomialNB()\n",
    "model.fit(training_data, trainy)\n",
    "# predict probabilities\n",
    "probs = model.predict_proba(testing_data)\n",
    "# keep probabilities for the positive outcome only\n",
    "probs = probs[:, 1]\n",
    "# calculate AUC\n",
    "auc = roc_auc_score(testy, probs)\n",
    "print('AUC: %.3f' % auc)\n",
    "# calculate roc curve\n",
    "fpr, tpr, thresholds = roc_curve(testy, probs)\n",
    "# plot no skill\n",
    "pyplot.plot([0, 1], [0, 1], linestyle='--')\n",
    "# plot the roc curve for the model\n",
    "pyplot.plot(fpr, tpr, marker='.')\n",
    "# show the plot\n",
    "pyplot.show()"
   ]
  },
  {
   "cell_type": "code",
   "execution_count": null,
   "metadata": {},
   "outputs": [],
   "source": []
  }
 ],
 "metadata": {
  "kernelspec": {
   "display_name": "Python 3",
   "language": "python",
   "name": "python3"
  },
  "language_info": {
   "codemirror_mode": {
    "name": "ipython",
    "version": 3
   },
   "file_extension": ".py",
   "mimetype": "text/x-python",
   "name": "python",
   "nbconvert_exporter": "python",
   "pygments_lexer": "ipython3",
   "version": "3.7.3"
  }
 },
 "nbformat": 4,
 "nbformat_minor": 2
}
